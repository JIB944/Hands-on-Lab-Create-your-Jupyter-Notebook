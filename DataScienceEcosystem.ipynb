{
 "cells": [
  {
   "cell_type": "markdown",
   "id": "360105ee-5ce4-4b18-9703-487afda91008",
   "metadata": {},
   "source": [
    "# Data Science Tools and Ecosystem\n"
   ]
  },
  {
   "cell_type": "markdown",
   "id": "ca14c66f-340b-49d7-bfd2-0966469fb343",
   "metadata": {},
   "source": [
    "In this notebook, Data Science Tools and Ecosystem are summarized."
   ]
  },
  {
   "cell_type": "markdown",
   "id": "9a55b91a-0b61-47d7-abe2-24ee75859718",
   "metadata": {},
   "source": [
    "**Objectives:**\n",
    "\n",
    "- List popular languages for Data Science\n",
    "- Identify commonly used libraries in Data Science\n",
    "- Table Data Science tools\n",
    "- Examples of evaluating arithmetic expressions in Python"
   ]
  },
  {
   "cell_type": "markdown",
   "id": "cbcba8b5-086d-404e-a7da-d2c1d07e0502",
   "metadata": {},
   "source": [
    "Some of the popular languages that Data Scientists use are:\n",
    "\n",
    "1. Python\r\n",
    "2. R\r\n",
    "3. S\n",
    "4. L\r\n"
   ]
  },
  {
   "cell_type": "markdown",
   "id": "ec578c07-0ce2-4b91-b1df-37575eb0e418",
   "metadata": {},
   "source": [
    "Some of the commonly used libraries used by Data Scientists include:\n",
    "\n",
    "1. NumPy\r\n",
    "2. Pandas\r\n",
    "3. MatplotlFlow\r\n"
   ]
  },
  {
   "cell_type": "markdown",
   "id": "3f6c11cf-c66b-4611-a8cf-d4a8d796b4ed",
   "metadata": {},
   "source": [
    "\n",
    "| Data Science Tools    |\n",
    "|-----------------------|\n",
    "| Jupyter Notebook      |\n",
    "| RStudio               |\n",
    "| Apache Zeppelin       |\n",
    "\n",
    "\n"
   ]
  },
  {
   "cell_type": "markdown",
   "id": "2aa6ddc7-8be7-46d5-9b9a-0485db94d0b1",
   "metadata": {},
   "source": [
    "### Below are a few examples of evaluating arithmetic expressions in Python."
   ]
  },
  {
   "cell_type": "code",
   "execution_count": 2,
   "id": "5b3a07c0-56e2-45b9-b389-52ee5304a178",
   "metadata": {},
   "outputs": [
    {
     "data": {
      "text/plain": [
       "17"
      ]
     },
     "execution_count": 2,
     "metadata": {},
     "output_type": "execute_result"
    }
   ],
   "source": [
    "# This a simple arithmetic expression to mutiply then add integers\n",
    "\n",
    "(3*4)+5"
   ]
  },
  {
   "cell_type": "code",
   "execution_count": 14,
   "id": "70ceb0b2-1234-4de6-bc54-f64efc69dc4b",
   "metadata": {},
   "outputs": [
    {
     "name": "stdout",
     "output_type": "stream",
     "text": [
      "3.3333333333333335\n"
     ]
    }
   ],
   "source": [
    "# This will convert 200 minutes to hours by diving by 60\n",
    "\n",
    "hours = (200 / 60) \n",
    "print(hours)"
   ]
  },
  {
   "cell_type": "markdown",
   "id": "97f53211-7bb0-42d8-9c70-461e8dd49d36",
   "metadata": {},
   "source": [
    "## Author\n",
    "Juan Ignacio Bacella"
   ]
  },
  {
   "cell_type": "code",
   "execution_count": null,
   "id": "b3f6aa8d-56c0-41fd-b026-d243cfaca157",
   "metadata": {},
   "outputs": [],
   "source": []
  }
 ],
 "metadata": {
  "kernelspec": {
   "display_name": "Python 3 (ipykernel)",
   "language": "python",
   "name": "python3"
  },
  "language_info": {
   "codemirror_mode": {
    "name": "ipython",
    "version": 3
   },
   "file_extension": ".py",
   "mimetype": "text/x-python",
   "name": "python",
   "nbconvert_exporter": "python",
   "pygments_lexer": "ipython3",
   "version": "3.12.4"
  }
 },
 "nbformat": 4,
 "nbformat_minor": 5
}
